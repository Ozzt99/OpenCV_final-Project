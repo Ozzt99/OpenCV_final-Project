{
 "cells": [
  {
   "cell_type": "code",
   "execution_count": null,
   "id": "8f255cf6-a1b1-4182-a5d0-b635b27e1bc3",
   "metadata": {},
   "outputs": [],
   "source": [
    "import cv2\n",
    "import numpy as np\n",
    "\n"
   ]
  },
  {
   "cell_type": "code",
   "execution_count": null,
   "id": "90d6af36-3f42-4eb8-8ef1-c90275d568a4",
   "metadata": {},
   "outputs": [],
   "source": [
    "# 감도 설정(카메라 품질에 따라 조정 필요)\n",
    "thresh = 25    # 달라진 픽셀 값 기준치 설정\n",
    "max_diff = 5   # 달라진 픽셀 갯수 기준치 설정\n",
    "\n",
    "# 카메라 캡션 장치 준비\n",
    "cam1, cam2, cam3 = None, None, None\n",
    "cap = cv2.VideoCapture(0)\n",
    "cap.set(cv2.CAP_PROP_FRAME_WIDTH, 480)      # 프레임 폭을 480으로 설정 \n",
    "cap.set(cv2.CAP_PROP_FRAME_HEIGHT, 320)     # 프레임 높이를 320으로 설정\n",
    "\n",
    "if cap.isOpened():\n",
    "    ret, cam1 = cap.read()         # cam1 프레임 읽기\n",
    "    ret, cam2 = cap.read()         # cam2 프레임 읽기\n",
    "\n",
    "    while ret:\n",
    "        ret, cam3 = cap.read()     # cam3 프레임 읽기\n",
    "        draw = cam3.copy()         # 출력 영상에 사용할 복제본\n",
    "        if not ret:\n",
    "            break\n",
    "        \n",
    "        # 3개의 영상을 그레이 스케일로 변경\n",
    "        cam1_gray = cv2.cvtColor(cam1, cv2.COLOR_BGR2GRAY)\n",
    "        cam2_gray = cv2.cvtColor(cam2, cv2.COLOR_BGR2GRAY)\n",
    "        cam3_gray = cv2.cvtColor(cam3, cv2.COLOR_BGR2GRAY)\n",
    "\n",
    "        # cam1-cam2, cam2-cam3 절대 값 차 구하기 \n",
    "        diff1 = cv2.absdiff(cam1_gray, cam2_gray)\n",
    "        diff2 = cv2.absdiff(cam2_gray, cam3_gray)\n",
    "\n",
    "        # 스레시홀드로 기준치 이내의 차이는 무시\n",
    "        ret, diff1_t = cv2.threshold(diff1, thresh, 255, cv2.THRESH_BINARY)\n",
    "        ret, diff2_t = cv2.threshold(diff2, thresh, 255, cv2.THRESH_BINARY)\n",
    "\n",
    "        # 두 차이에 대해서 AND 연산, 두 영상의 차이가 모두 발견된 경우\n",
    "        diff = cv2.bitwise_and(diff1_t, diff2_t)\n",
    "\n",
    "        # 열림 연산으로 노이즈 제거 ---①\n",
    "        k = cv2.getStructuringElement(cv2.MORPH_CROSS, (3,3))\n",
    "        diff = cv2.morphologyEx(diff, cv2.MORPH_OPEN, k)\n",
    "\n",
    "        # 차이가 발생한 픽셀이 갯수 판단 후 사각형 그리기\n",
    "        diff_cnt = cv2.countNonZero(diff)\n",
    "        if diff_cnt > max_diff:\n",
    "            nzero = np.nonzero(diff)  # 0이 아닌 픽셀의 좌표 얻기(y[...], x[...])\n",
    "            cv2.rectangle(draw, (min(nzero[1]), min(nzero[0])), \\\n",
    "                                (max(nzero[1]), max(nzero[0])), (0,255,0), 2)\n",
    "            cv2.putText(draw, \"Motion Detected\", (10,30), \\\n",
    "                                cv2.FONT_HERSHEY_DUPLEX, 0.5, (0,0,255))\n",
    "        \n",
    "        # 컬러 스케일 영상과 스레시홀드 영상을 통합해서 출력\n",
    "        stacked = np.hstack((draw, cv2.cvtColor(diff, cv2.COLOR_GRAY2BGR)))\n",
    "        cv2.imshow('motion sensor',stacked )\n",
    "\n",
    "        # 다음 비교를 위해 영상 순서 정리\n",
    "        cam1 = cam2\n",
    "        cam2 = cam3\n",
    "        \n",
    "        if cv2.waitKey(1) & 0xFF == 27:\n",
    "            break                "
   ]
  },
  {
   "cell_type": "code",
   "execution_count": null,
   "id": "46443cae-f563-49c8-8314-6990fd429e82",
   "metadata": {},
   "outputs": [],
   "source": []
  }
 ],
 "metadata": {
  "kernelspec": {
   "display_name": "Python 3",
   "language": "python",
   "name": "python3"
  },
  "language_info": {
   "codemirror_mode": {
    "name": "ipython",
    "version": 3
   },
   "file_extension": ".py",
   "mimetype": "text/x-python",
   "name": "python",
   "nbconvert_exporter": "python",
   "pygments_lexer": "ipython3",
   "version": "3.8.5"
  }
 },
 "nbformat": 4,
 "nbformat_minor": 5
}
